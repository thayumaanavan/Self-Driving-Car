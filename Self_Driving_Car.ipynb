{
  "nbformat": 4,
  "nbformat_minor": 0,
  "metadata": {
    "colab": {
      "name": "Self Driving Car.ipynb",
      "version": "0.3.2",
      "provenance": [],
      "collapsed_sections": [],
      "include_colab_link": true
    },
    "kernelspec": {
      "name": "python3",
      "display_name": "Python 3"
    },
    "accelerator": "GPU"
  },
  "cells": [
    {
      "cell_type": "markdown",
      "metadata": {
        "id": "view-in-github",
        "colab_type": "text"
      },
      "source": [
        "[View in Colaboratory](https://colab.research.google.com/github/thayumaanavan/Self-Driving-Car/blob/master/Self_Driving_Car.ipynb)"
      ]
    },
    {
      "metadata": {
        "id": "5V3p9cjiKuv8",
        "colab_type": "code",
        "colab": {}
      },
      "cell_type": "code",
      "source": [
        "#To read data from gdrive\n",
        "!pip install -U -q PyDrive\n",
        "\n",
        "from pydrive.auth import GoogleAuth\n",
        "from pydrive.drive import GoogleDrive\n",
        "from google.colab import auth\n",
        "from oauth2client.client import GoogleCredentials\n",
        "\n",
        "# 1. Authenticate and create the PyDrive client.\n",
        "auth.authenticate_user()\n",
        "gauth = GoogleAuth()\n",
        "gauth.credentials = GoogleCredentials.get_application_default()\n",
        "drive = GoogleDrive(gauth)"
      ],
      "execution_count": 0,
      "outputs": []
    },
    {
      "metadata": {
        "id": "wxsHvYIujJ2G",
        "colab_type": "code",
        "colab": {
          "base_uri": "https://localhost:8080/",
          "height": 34
        },
        "outputId": "2baf0bae-b57a-4e69-d942-6a41e714d9ea"
      },
      "cell_type": "code",
      "source": [
        "#Download data from gdrive\n",
        "fileID = drive.CreateFile({'id': '1cBg-zMECiMh0o3mjD8x4yKS3FlQlUPPa'})\n",
        "print(fileID['title'])\n",
        "fileID.GetContentFile('IMG.zip') "
      ],
      "execution_count": 57,
      "outputs": [
        {
          "output_type": "stream",
          "text": [
            "IMG.zip\n"
          ],
          "name": "stdout"
        }
      ]
    },
    {
      "metadata": {
        "id": "Mi8_gEKfjEfb",
        "colab_type": "code",
        "colab": {
          "base_uri": "https://localhost:8080/",
          "height": 34
        },
        "outputId": "da67eb53-9f80-4bcb-ea69-0fc2cb0e96b5"
      },
      "cell_type": "code",
      "source": [
        "#remove folder if exists already\n",
        "!rm -r Self-Driving-Car\n",
        "!ls"
      ],
      "execution_count": 1,
      "outputs": [
        {
          "output_type": "stream",
          "text": [
            "datalab  IMG.zip\r\n"
          ],
          "name": "stdout"
        }
      ]
    },
    {
      "metadata": {
        "id": "sP--3Mc9LCDs",
        "colab_type": "code",
        "colab": {
          "base_uri": "https://localhost:8080/",
          "height": 102
        },
        "outputId": "9b8b397e-4122-445d-cc96-cc140fd05622"
      },
      "cell_type": "code",
      "source": [
        "#clone the repo\n",
        "!git clone https://github.com/thayumaanavan/Self-Driving-Car.git"
      ],
      "execution_count": 2,
      "outputs": [
        {
          "output_type": "stream",
          "text": [
            "Cloning into 'Self-Driving-Car'...\n",
            "remote: Counting objects: 31, done.\u001b[K\n",
            "remote: Compressing objects: 100% (21/21), done.\u001b[K\n",
            "remote: Total 31 (delta 12), reused 20 (delta 6), pack-reused 0\u001b[K\n",
            "Unpacking objects: 100% (31/31), done.\n"
          ],
          "name": "stdout"
        }
      ]
    },
    {
      "metadata": {
        "id": "oFmtk3FOZ8bd",
        "colab_type": "code",
        "colab": {
          "base_uri": "https://localhost:8080/",
          "height": 34
        },
        "outputId": "7ea337c7-fc8f-417b-d3ce-009ee9de810f"
      },
      "cell_type": "code",
      "source": [
        "#extract the data to the respective folder\n",
        "!ls\n",
        "import zipfile\n",
        "zip_ref = zipfile.ZipFile(\"IMG.zip\", 'r')\n",
        "zip_ref.extractall('Self-Driving-Car/data')\n",
        "zip_ref.close()"
      ],
      "execution_count": 3,
      "outputs": [
        {
          "output_type": "stream",
          "text": [
            "datalab  IMG.zip  Self-Driving-Car\r\n"
          ],
          "name": "stdout"
        }
      ]
    },
    {
      "metadata": {
        "id": "_18kelvYkzin",
        "colab_type": "code",
        "colab": {
          "base_uri": "https://localhost:8080/",
          "height": 34
        },
        "outputId": "4d62d029-eadb-446b-fe14-4486d6f5cfc9"
      },
      "cell_type": "code",
      "source": [
        "#verify the data is extracted properly\n",
        "!ls Self-Driving-Car/data"
      ],
      "execution_count": 4,
      "outputs": [
        {
          "output_type": "stream",
          "text": [
            "driving_log.csv  IMG\r\n"
          ],
          "name": "stdout"
        }
      ]
    },
    {
      "metadata": {
        "id": "q29l2-KbMyR7",
        "colab_type": "code",
        "colab": {}
      },
      "cell_type": "code",
      "source": [
        "import sys\n",
        "sys.path.append('Self-Driving-Car')"
      ],
      "execution_count": 0,
      "outputs": []
    },
    {
      "metadata": {
        "id": "BF1GugU06iO8",
        "colab_type": "code",
        "colab": {
          "base_uri": "https://localhost:8080/",
          "height": 34
        },
        "outputId": "484167b1-4646-4214-a7a6-49aa844ecd6c"
      },
      "cell_type": "code",
      "source": [
        "import pandas as pd # data analysis toolkit - create, read, update, delete datasets\n",
        "import numpy as np #matrix math\n",
        "from sklearn.model_selection import train_test_split #to split out training and testing data \n",
        "#keras is a high level wrapper on top of tensorflow (machine learning library)\n",
        "#The Sequential container is a linear stack of layers\n",
        "from keras.models import Sequential\n",
        "#popular optimization strategy that uses gradient descent \n",
        "from keras.optimizers import Adam\n",
        "#to save our model periodically as checkpoints for loading later\n",
        "from keras.callbacks import ModelCheckpoint\n",
        "#what types of layers do we want our model to have?\n",
        "from keras.layers import Lambda, Conv2D, MaxPooling2D, Dropout, Dense, Flatten\n",
        "#helper class to define input shape and generate training images given image paths & steering angles\n",
        "from utils import INPUT_SHAPE, batch_generator\n",
        "#for command line arguments\n",
        "import argparse\n",
        "#for reading files\n",
        "import os\n",
        "\n",
        "#for debugging, allows for reproducible (deterministic) results \n",
        "np.random.seed(0)"
      ],
      "execution_count": 6,
      "outputs": [
        {
          "output_type": "stream",
          "text": [
            "Using TensorFlow backend.\n"
          ],
          "name": "stderr"
        }
      ]
    },
    {
      "metadata": {
        "id": "t6Ut4TgKNAgl",
        "colab_type": "code",
        "colab": {}
      },
      "cell_type": "code",
      "source": [
        "def load_data(args):\n",
        "  \n",
        "  #reads CSV files into single data frame var\n",
        "  data_df = pd.read_csv(os.path.join(os.getcwd(), args.data_dir, 'driving_log.csv'), names =['center','left','right','steering','throttle','reverse','speed'])\n",
        "  \n",
        "  #Get input & output\n",
        "  X = data_df[['center','left','right']].values\n",
        "  y = data_df['steering'].values\n",
        "  \n",
        "  #split the data into training,test & validation set\n",
        "  X_train, X_valid, y_train, y_valid = train_test_split(X, y, test_size=args.test_size, random_state=0)\n",
        "  \n",
        "  return X_train, X_valid, y_train, y_valid\n",
        "\n",
        "def build_model(args):\n",
        "  \"\"\"\n",
        "  NVIDIA model used\n",
        "  Image normalization to avoid saturation and make gradients work better.\n",
        "  Convolution: 5x5, filter: 24, strides: 2x2, activation: ELU\n",
        "  Convolution: 5x5, filter: 36, strides: 2x2, activation: ELU\n",
        "  Convolution: 5x5, filter: 48, strides: 2x2, activation: ELU\n",
        "  Convolution: 3x3, filter: 64, strides: 1x1, activation: ELU\n",
        "  Convolution: 3x3, filter: 64, strides: 1x1, activation: ELU\n",
        "  Drop out (0.5)\n",
        "  Fully connected: neurons: 100, activation: ELU\n",
        "  Fully connected: neurons: 50, activation: ELU\n",
        "  Fully connected: neurons: 10, activation: ELU\n",
        "  Fully connected: neurons: 1 (output)\n",
        "  \"\"\"\n",
        "  \n",
        "  model = Sequential()\n",
        "  model.add(Lambda(lambda x: x/127.5-1.0, input_shape=INPUT_SHAPE))\n",
        "  model.add(Conv2D(24, (5, 5), activation='elu', strides=(2, 2)))\n",
        "  model.add(Conv2D(36, (5, 5), activation='elu', strides=(2, 2)))\n",
        "  model.add(Conv2D(48, (5, 5), activation='elu', strides=(2, 2)))\n",
        "  model.add(Conv2D(64, (3, 3), activation='elu'))\n",
        "  model.add(Conv2D(64, (3, 3), activation='elu'))\n",
        "  model.add(Dropout(args.keep_prob))\n",
        "  model.add(Flatten())\n",
        "  model.add(Dense(100, activation='elu'))\n",
        "  model.add(Dense(50, activation='elu'))\n",
        "  model.add(Dense(10, activation='elu'))\n",
        "  model.add(Dense(1))\n",
        "  model.summary()\n",
        "  \n",
        "  return model\n",
        "  \n",
        "\n",
        "def train_model(model, args, X_train, X_valid, y_train, y_valid):\n",
        "  \n",
        "  checkpoint = ModelCheckpoint('model-{epoch:03d}.h5', \n",
        "                              monitor='val_loss',\n",
        "                              verbose=0,\n",
        "                              save_best_only=args.save_best_only,\n",
        "                              mode='auto')\n",
        "  \n",
        "  model.compile(loss='mean_squared_error', optimizer=Adam(lr=args.learning_rate))\n",
        "  \n",
        "  model.fit_generator(batch_generator(args.data_dir,X_train,y_train, args.batch_size, True), \n",
        "                     args.samples_per_epoch,\n",
        "                     args.nb_epoch,\n",
        "                     max_q_size=1,\n",
        "                     validation_data=batch_generator(args.data_dir, X_valid, y_valid, args.batch_size, False),\n",
        "                     nb_val_samples= len(X_valid),\n",
        "                     callbacks=[checkpoint],\n",
        "                     verbose=1)\n",
        "  \n",
        "\n",
        "#for command line args\n",
        "def s2b(s):\n",
        "    \"\"\"\n",
        "    Converts a string to boolean value\n",
        "    \"\"\"\n",
        "    s = s.lower()\n",
        "    return s == 'true' or s == 'yes' or s == 'y' or s == '1'"
      ],
      "execution_count": 0,
      "outputs": []
    },
    {
      "metadata": {
        "id": "hEaXp4JeSWgM",
        "colab_type": "code",
        "colab": {}
      },
      "cell_type": "code",
      "source": [
        "def main():\n",
        "  \n",
        "  parser = argparse.ArgumentParser(description='Behavioral Cloning Training Program')\n",
        "  parser.add_argument('-d', help='data directory',        dest='data_dir',          type=str,   default='Self-Driving-Car/data')\n",
        "  parser.add_argument('-t', help='test size fraction',    dest='test_size',         type=float, default=0.2)\n",
        "  parser.add_argument('-k', help='drop out probability',  dest='keep_prob',         type=float, default=0.5)\n",
        "  parser.add_argument('-n', help='number of epochs',      dest='nb_epoch',          type=int,   default=10)\n",
        "  parser.add_argument('-s', help='samples per epoch',     dest='samples_per_epoch', type=int,   default=20000)\n",
        "  parser.add_argument('-b', help='batch size',            dest='batch_size',        type=int,   default=40)\n",
        "  parser.add_argument('-o', help='save best models only', dest='save_best_only',    type=s2b,   default='true')\n",
        "  parser.add_argument('-l', help='learning rate',         dest='learning_rate',     type=float, default=1.0e-4)\n",
        "  args = parser.parse_args()\n",
        "\n",
        "  #print parameters\n",
        "  print('-' * 30)\n",
        "  print('Parameters')\n",
        "  print('-' * 30)\n",
        "  for key, value in vars(args).items():\n",
        "      print('{:<20} := {}'.format(key, value))\n",
        "  print('-' * 30)\n",
        "\n",
        "  #load data\n",
        "  data = load_data(args)\n",
        "  \n",
        "  #build model\n",
        "  model = build_model(args)\n",
        "  \n",
        "  #train_model\n",
        "  train_model(model,args, *data)"
      ],
      "execution_count": 0,
      "outputs": []
    },
    {
      "metadata": {
        "id": "1xDw4wrrS3nu",
        "colab_type": "code",
        "colab": {
          "base_uri": "https://localhost:8080/",
          "height": 836
        },
        "outputId": "ec39790a-abd1-4b5d-a4eb-8cb5f8bf484c"
      },
      "cell_type": "code",
      "source": [
        "sys.argv=['']\n",
        "main()\n",
        "del sys"
      ],
      "execution_count": 0,
      "outputs": [
        {
          "output_type": "stream",
          "text": [
            "------------------------------\n",
            "Parameters\n",
            "------------------------------\n",
            "data_dir             := Self-Driving-Car/data\n",
            "test_size            := 0.2\n",
            "keep_prob            := 0.5\n",
            "nb_epoch             := 10\n",
            "samples_per_epoch    := 20000\n",
            "batch_size           := 40\n",
            "save_best_only       := True\n",
            "learning_rate        := 0.0001\n",
            "------------------------------\n",
            "_________________________________________________________________\n",
            "Layer (type)                 Output Shape              Param #   \n",
            "=================================================================\n",
            "lambda_1 (Lambda)            (None, 66, 200, 3)        0         \n",
            "_________________________________________________________________\n",
            "conv2d_1 (Conv2D)            (None, 31, 98, 24)        1824      \n",
            "_________________________________________________________________\n",
            "conv2d_2 (Conv2D)            (None, 14, 47, 36)        21636     \n",
            "_________________________________________________________________\n",
            "conv2d_3 (Conv2D)            (None, 5, 22, 48)         43248     \n",
            "_________________________________________________________________\n",
            "conv2d_4 (Conv2D)            (None, 3, 20, 64)         27712     \n",
            "_________________________________________________________________\n",
            "conv2d_5 (Conv2D)            (None, 1, 18, 64)         36928     \n",
            "_________________________________________________________________\n",
            "dropout_1 (Dropout)          (None, 1, 18, 64)         0         \n",
            "_________________________________________________________________\n",
            "flatten_1 (Flatten)          (None, 1152)              0         \n",
            "_________________________________________________________________\n",
            "dense_1 (Dense)              (None, 100)               115300    \n",
            "_________________________________________________________________\n",
            "dense_2 (Dense)              (None, 50)                5050      \n",
            "_________________________________________________________________\n",
            "dense_3 (Dense)              (None, 10)                510       \n",
            "_________________________________________________________________\n",
            "dense_4 (Dense)              (None, 1)                 11        \n",
            "=================================================================\n",
            "Total params: 252,219\n",
            "Trainable params: 252,219\n",
            "Non-trainable params: 0\n",
            "_________________________________________________________________\n"
          ],
          "name": "stdout"
        },
        {
          "output_type": "stream",
          "text": [
            "__main__:66: UserWarning: The semantics of the Keras 2 argument `steps_per_epoch` is not the same as the Keras 1 argument `samples_per_epoch`. `steps_per_epoch` is the number of batches to draw from the generator at each epoch. Basically steps_per_epoch = samples_per_epoch/batch_size. Similarly `nb_val_samples`->`validation_steps` and `val_samples`->`steps` arguments have changed. Update your method calls accordingly.\n",
            "__main__:66: UserWarning: Update your `fit_generator` call to the Keras 2 API: `fit_generator(<generator..., 20000, 10, validation_data=<generator..., callbacks=[<keras.ca..., verbose=1, validation_steps=233, max_queue_size=1)`\n"
          ],
          "name": "stderr"
        },
        {
          "output_type": "stream",
          "text": [
            "Epoch 1/10\n",
            " 2940/20000 [===>..........................] - ETA: 46:09 - loss: 0.0921"
          ],
          "name": "stdout"
        }
      ]
    }
  ]
}